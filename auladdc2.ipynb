{
  "nbformat": 4,
  "nbformat_minor": 0,
  "metadata": {
    "colab": {
      "name": "auladdc2.ipynb",
      "version": "0.3.2",
      "provenance": [],
      "collapsed_sections": [],
      "include_colab_link": true
    },
    "kernelspec": {
      "name": "python3",
      "display_name": "Python 3"
    }
  },
  "cells": [
    {
      "cell_type": "markdown",
      "metadata": {
        "id": "view-in-github",
        "colab_type": "text"
      },
      "source": [
        "<a href=\"https://colab.research.google.com/github/ninhalp/dcc/blob/master/auladdc2.ipynb\" target=\"_parent\"><img src=\"https://colab.research.google.com/assets/colab-badge.svg\" alt=\"Open In Colab\"/></a>"
      ]
    },
    {
      "metadata": {
        "id": "_vPwPH-4RTZm",
        "colab_type": "code",
        "outputId": "eba8496a-bdfa-4f85-99e7-3b15809e7d1b",
        "colab": {
          "base_uri": "https://localhost:8080/",
          "height": 34
        }
      },
      "cell_type": "code",
      "source": [
        "lista = [3,2,1,50,25]\n",
        "sum(lista)"
      ],
      "execution_count": 0,
      "outputs": [
        {
          "output_type": "execute_result",
          "data": {
            "text/plain": [
              "81"
            ]
          },
          "metadata": {
            "tags": []
          },
          "execution_count": 19
        }
      ]
    },
    {
      "metadata": {
        "id": "y_Tu91aARwPm",
        "colab_type": "code",
        "outputId": "bbafb039-8d5e-4561-ebad-f2786fe5860f",
        "colab": {
          "base_uri": "https://localhost:8080/",
          "height": 34
        }
      },
      "cell_type": "code",
      "source": [
        "achei10 = 10 in lista\n",
        "if (achei10):\n",
        "  print(\"Encontrei o 10\")\n",
        "else:\n",
        "  print(\"Não encontrei o 10\")"
      ],
      "execution_count": 0,
      "outputs": [
        {
          "output_type": "stream",
          "text": [
            "Não encontrei o 10\n"
          ],
          "name": "stdout"
        }
      ]
    },
    {
      "metadata": {
        "id": "Ob3WLyWfSHGE",
        "colab_type": "code",
        "outputId": "e3afb491-5441-4c62-fecf-78cb3242a86b",
        "colab": {
          "base_uri": "https://localhost:8080/",
          "height": 166
        }
      },
      "cell_type": "code",
      "source": [
        "lista.index(5)"
      ],
      "execution_count": 0,
      "outputs": [
        {
          "output_type": "error",
          "ename": "ValueError",
          "evalue": "ignored",
          "traceback": [
            "\u001b[0;31m---------------------------------------------------------------------------\u001b[0m",
            "\u001b[0;31mValueError\u001b[0m                                Traceback (most recent call last)",
            "\u001b[0;32m<ipython-input-12-32c86a041888>\u001b[0m in \u001b[0;36m<module>\u001b[0;34m()\u001b[0m\n\u001b[0;32m----> 1\u001b[0;31m \u001b[0mlista\u001b[0m\u001b[0;34m.\u001b[0m\u001b[0mindex\u001b[0m\u001b[0;34m(\u001b[0m\u001b[0;36m5\u001b[0m\u001b[0;34m)\u001b[0m\u001b[0;34m\u001b[0m\u001b[0;34m\u001b[0m\u001b[0m\n\u001b[0m",
            "\u001b[0;31mValueError\u001b[0m: 5 is not in list"
          ]
        }
      ]
    },
    {
      "metadata": {
        "id": "-0iwA-4bTDM0",
        "colab_type": "code",
        "outputId": "36ef299c-b08d-4b1b-baa0-79f8ec77663a",
        "colab": {
          "base_uri": "https://localhost:8080/",
          "height": 52
        }
      },
      "cell_type": "code",
      "source": [
        "v = 50\n",
        "try:\n",
        "  lista.index(v)\n",
        "  print(lista.index(v))\n",
        "except(ValueError):\n",
        "  print(\"O valor procurado não está na lista\")\n",
        "  \n",
        "print(\"Olá\")"
      ],
      "execution_count": 0,
      "outputs": [
        {
          "output_type": "stream",
          "text": [
            "3\n",
            "Olá\n"
          ],
          "name": "stdout"
        }
      ]
    },
    {
      "metadata": {
        "id": "CHPWAxUzV_Pk",
        "colab_type": "code",
        "outputId": "78340e77-0dd4-42fb-90e2-5ad071f8f885",
        "colab": {
          "base_uri": "https://localhost:8080/",
          "height": 34
        }
      },
      "cell_type": "code",
      "source": [
        "dicionario = {\"Aluno 1\": {\"Cálculo\": 1.0, \"Python\": 9.0}, \"Aluno 2\": [5.0]}\n",
        "dicionario"
      ],
      "execution_count": 0,
      "outputs": [
        {
          "output_type": "execute_result",
          "data": {
            "text/plain": [
              "{'Aluno 1': {'Cálculo': 1.0, 'Python': 9.0}, 'Aluno 2': [5.0]}"
            ]
          },
          "metadata": {
            "tags": []
          },
          "execution_count": 22
        }
      ]
    },
    {
      "metadata": {
        "id": "aJUR_QwvYMCw",
        "colab_type": "code",
        "outputId": "bc9b6142-e688-40cb-e06b-adac951d271f",
        "colab": {
          "base_uri": "https://localhost:8080/",
          "height": 34
        }
      },
      "cell_type": "code",
      "source": [
        "dicionario[\"Aluno 1\"]"
      ],
      "execution_count": 0,
      "outputs": [
        {
          "output_type": "execute_result",
          "data": {
            "text/plain": [
              "{'Cálculo': 1.0, 'Python': 9.0}"
            ]
          },
          "metadata": {
            "tags": []
          },
          "execution_count": 26
        }
      ]
    },
    {
      "metadata": {
        "id": "V9XO6MkGYyHO",
        "colab_type": "code",
        "outputId": "62bc6dba-4657-4437-99e4-c2c04d652646",
        "colab": {
          "base_uri": "https://localhost:8080/",
          "height": 34
        }
      },
      "cell_type": "code",
      "source": [
        "\"Aluno 2\" in dicionario"
      ],
      "execution_count": 0,
      "outputs": [
        {
          "output_type": "execute_result",
          "data": {
            "text/plain": [
              "True"
            ]
          },
          "metadata": {
            "tags": []
          },
          "execution_count": 28
        }
      ]
    },
    {
      "metadata": {
        "id": "p65uzusvZWlO",
        "colab_type": "code",
        "outputId": "1629d633-bcd3-47ed-9b68-04f72d1b01a7",
        "colab": {
          "base_uri": "https://localhost:8080/",
          "height": 34
        }
      },
      "cell_type": "code",
      "source": [
        "boletim ={\n",
        "    \"João Canabrava\": 2.0,\n",
        "    \"Paulo Cintura\": 3.0,\n",
        "    \"Galeão Cumbica\": 5.0,\n",
        "    \"Sandoval Quaresma\": 9.0\n",
        "}\n",
        "\n",
        "try:\n",
        "  print(boletim[\"João\"])\n",
        "except KeyError:\n",
        "  print(\"Aluno não encontrado\")"
      ],
      "execution_count": 0,
      "outputs": [
        {
          "output_type": "stream",
          "text": [
            "Aluno não encontrado\n"
          ],
          "name": "stdout"
        }
      ]
    },
    {
      "metadata": {
        "id": "xlgBcX_ZaRzO",
        "colab_type": "code",
        "outputId": "a3ebc26d-92da-4a09-b511-c6e54dcf43cd",
        "colab": {
          "base_uri": "https://localhost:8080/",
          "height": 34
        }
      },
      "cell_type": "code",
      "source": [
        "tupla = (1,2)\n",
        "tupla\n",
        "type(tupla)"
      ],
      "execution_count": 0,
      "outputs": [
        {
          "output_type": "execute_result",
          "data": {
            "text/plain": [
              "tuple"
            ]
          },
          "metadata": {
            "tags": []
          },
          "execution_count": 32
        }
      ]
    },
    {
      "metadata": {
        "id": "PYaMFEOAb4o0",
        "colab_type": "code",
        "outputId": "9767c49b-4bbb-4511-a392-30563bfebef1",
        "colab": {
          "base_uri": "https://localhost:8080/",
          "height": 34
        }
      },
      "cell_type": "code",
      "source": [
        "lista.append(3)\n",
        "lista.append(1)\n",
        "lista"
      ],
      "execution_count": 0,
      "outputs": [
        {
          "output_type": "execute_result",
          "data": {
            "text/plain": [
              "[3, 2, 1, 50, 25, 3, 1]"
            ]
          },
          "metadata": {
            "tags": []
          },
          "execution_count": 36
        }
      ]
    },
    {
      "metadata": {
        "id": "lLHcjvnSbZu2",
        "colab_type": "code",
        "outputId": "8f6abb0c-9c46-48cd-b953-d3fb6317b05a",
        "colab": {
          "base_uri": "https://localhost:8080/",
          "height": 34
        }
      },
      "cell_type": "code",
      "source": [
        "conjunto ={1,4,8,4}\n",
        "conjunto"
      ],
      "execution_count": 0,
      "outputs": [
        {
          "output_type": "execute_result",
          "data": {
            "text/plain": [
              "{1, 4, 8}"
            ]
          },
          "metadata": {
            "tags": []
          },
          "execution_count": 34
        }
      ]
    },
    {
      "metadata": {
        "id": "I4M7NJxDcHEY",
        "colab_type": "code",
        "outputId": "465b895d-0f90-491a-c0a6-8d71814e7ffc",
        "colab": {
          "base_uri": "https://localhost:8080/",
          "height": 34
        }
      },
      "cell_type": "code",
      "source": [
        "conjunto2 = set(lista)\n",
        "conjunto2"
      ],
      "execution_count": 0,
      "outputs": [
        {
          "output_type": "execute_result",
          "data": {
            "text/plain": [
              "{1, 2, 3, 25, 50}"
            ]
          },
          "metadata": {
            "tags": []
          },
          "execution_count": 40
        }
      ]
    },
    {
      "metadata": {
        "id": "49ausbFnchwM",
        "colab_type": "code",
        "outputId": "3ca82ef8-0480-435e-dd3d-381bfa799ef2",
        "colab": {
          "base_uri": "https://localhost:8080/",
          "height": 34
        }
      },
      "cell_type": "code",
      "source": [
        "2 in conjunto2"
      ],
      "execution_count": 0,
      "outputs": [
        {
          "output_type": "execute_result",
          "data": {
            "text/plain": [
              "True"
            ]
          },
          "metadata": {
            "tags": []
          },
          "execution_count": 38
        }
      ]
    },
    {
      "metadata": {
        "id": "d0OP3bVwcmKi",
        "colab_type": "code",
        "colab": {}
      },
      "cell_type": "code",
      "source": [
        ""
      ],
      "execution_count": 0,
      "outputs": []
    }
  ]
}